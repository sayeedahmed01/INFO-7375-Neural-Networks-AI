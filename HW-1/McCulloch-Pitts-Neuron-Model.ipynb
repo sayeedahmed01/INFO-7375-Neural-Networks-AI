{
 "cells": [
  {
   "cell_type": "code",
   "execution_count": 30,
   "id": "initial_id",
   "metadata": {
    "collapsed": true,
    "ExecuteTime": {
     "end_time": "2024-01-18T04:18:17.267941Z",
     "start_time": "2024-01-18T04:18:17.265533Z"
    }
   },
   "outputs": [],
   "source": [
    "import numpy as np"
   ]
  },
  {
   "cell_type": "code",
   "execution_count": 31,
   "outputs": [],
   "source": [
    "class McCullochPittsNeuron:\n",
    "    def __init__(self, weights, threshold):\n",
    "        self.weights = weights\n",
    "        self.threshold = threshold\n",
    "\n",
    "    def activate(self, inputs):\n",
    "        if len(inputs) != len(self.weights):\n",
    "            raise ValueError(\"Number of inputs do not match number of weights\")\n",
    "\n",
    "        aggregation = np.dot(inputs, self.weights)\n",
    "        # print(aggregation)\n",
    "        \n",
    "        return 1 if aggregation > self.threshold else 0"
   ],
   "metadata": {
    "collapsed": false,
    "ExecuteTime": {
     "end_time": "2024-01-18T04:18:17.745368Z",
     "start_time": "2024-01-18T04:18:17.742396Z"
    }
   },
   "id": "86fe6bc12294019c"
  },
  {
   "cell_type": "code",
   "execution_count": 32,
   "outputs": [],
   "source": [
    "#Example to stimulate AND, OR, and NOR gates\n",
    "\n",
    "def logic_gate_demo(gate_type):\n",
    "    inputs = [[0, 0], [0, 1], [1, 0], [1, 1]]\n",
    "\n",
    "    if gate_type == \"AND\":\n",
    "        neuron = McCullochPittsNeuron([1, 1], 1)\n",
    "    elif gate_type == \"OR\":\n",
    "        neuron = McCullochPittsNeuron([2, 2], 1)\n",
    "    elif gate_type == \"NOR\":\n",
    "        neuron = McCullochPittsNeuron([-1, -1], -0.5)\n",
    "    else:\n",
    "        raise ValueError(\"Unsupported Gate Type\")\n",
    "\n",
    "    print(f\"{gate_type} Gate\")\n",
    "    for input_pair in inputs:\n",
    "        output = neuron.activate(input_pair)\n",
    "        print(f\"Input: {input_pair}, Output: {output}\")"
   ],
   "metadata": {
    "collapsed": false,
    "ExecuteTime": {
     "end_time": "2024-01-18T04:18:18.289338Z",
     "start_time": "2024-01-18T04:18:18.286849Z"
    }
   },
   "id": "30fb0f29b5ac85b"
  },
  {
   "cell_type": "code",
   "execution_count": 33,
   "outputs": [
    {
     "name": "stdout",
     "output_type": "stream",
     "text": [
      "AND Gate\n",
      "Input: [0, 0], Output: 0\n",
      "Input: [0, 1], Output: 0\n",
      "Input: [1, 0], Output: 0\n",
      "Input: [1, 1], Output: 1\n",
      "OR Gate\n",
      "Input: [0, 0], Output: 0\n",
      "Input: [0, 1], Output: 1\n",
      "Input: [1, 0], Output: 1\n",
      "Input: [1, 1], Output: 1\n",
      "NOR Gate\n",
      "Input: [0, 0], Output: 1\n",
      "Input: [0, 1], Output: 0\n",
      "Input: [1, 0], Output: 0\n",
      "Input: [1, 1], Output: 0\n"
     ]
    }
   ],
   "source": [
    "logic_gate_demo(\"AND\")\n",
    "logic_gate_demo(\"OR\")\n",
    "logic_gate_demo(\"NOR\")"
   ],
   "metadata": {
    "collapsed": false,
    "ExecuteTime": {
     "end_time": "2024-01-18T04:18:19.544887Z",
     "start_time": "2024-01-18T04:18:19.524520Z"
    }
   },
   "id": "a91e4a8531f62584"
  },
  {
   "cell_type": "code",
   "execution_count": null,
   "outputs": [],
   "source": [],
   "metadata": {
    "collapsed": false
   },
   "id": "c8dba7467c0f1894"
  }
 ],
 "metadata": {
  "kernelspec": {
   "display_name": "Python 3",
   "language": "python",
   "name": "python3"
  },
  "language_info": {
   "codemirror_mode": {
    "name": "ipython",
    "version": 2
   },
   "file_extension": ".py",
   "mimetype": "text/x-python",
   "name": "python",
   "nbconvert_exporter": "python",
   "pygments_lexer": "ipython2",
   "version": "2.7.6"
  }
 },
 "nbformat": 4,
 "nbformat_minor": 5
}
