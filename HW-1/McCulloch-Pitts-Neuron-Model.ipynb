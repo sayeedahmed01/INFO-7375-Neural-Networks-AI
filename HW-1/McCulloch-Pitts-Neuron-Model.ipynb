{
 "cells": [
  {
   "cell_type": "code",
   "execution_count": 37,
   "id": "initial_id",
   "metadata": {
    "collapsed": true,
    "ExecuteTime": {
     "end_time": "2024-01-18T18:59:33.028118Z",
     "start_time": "2024-01-18T18:59:33.027724Z"
    }
   },
   "outputs": [],
   "source": [
    "import numpy as np"
   ]
  },
  {
   "cell_type": "code",
   "execution_count": 41,
   "outputs": [],
   "source": [
    "class Input:\n",
    "    def __init__(self, values):\n",
    "        self.values = values\n",
    "\n",
    "class ActivationFunction:\n",
    "    @staticmethod\n",
    "    def apply(weights, inputs, threshold):\n",
    "        if len(inputs) != len(weights):\n",
    "            raise ValueError(\"Number of inputs do not match number of weights\")\n",
    "\n",
    "        aggregation = np.dot(inputs, weights)\n",
    "        return 1 if aggregation > threshold else 0\n",
    "\n",
    "class McCullochPittsNeuron:\n",
    "    def __init__(self, weights, threshold):\n",
    "        self.weights = weights\n",
    "        self.threshold = threshold\n",
    "        self.activation_function = ActivationFunction()\n",
    "\n",
    "    def activate(self, input_data):\n",
    "        if not isinstance(input_data, Input):\n",
    "            raise ValueError(\"Input data must be an instance of Input class\")\n",
    "        return self.activation_function.apply(self.weights, input_data.values, self.threshold)"
   ],
   "metadata": {
    "collapsed": false,
    "ExecuteTime": {
     "end_time": "2024-01-18T19:00:29.069038Z",
     "start_time": "2024-01-18T19:00:29.062043Z"
    }
   },
   "id": "86fe6bc12294019c"
  },
  {
   "cell_type": "code",
   "execution_count": 42,
   "outputs": [],
   "source": [
    "def logic_gate_demo(gate_type):\n",
    "    inputs = [Input([0, 0]), Input([0, 1]), Input([1, 0]), Input([1, 1])]\n",
    "\n",
    "    if gate_type == \"AND\":\n",
    "        neuron = McCullochPittsNeuron([1, 1], 1)\n",
    "    elif gate_type == \"OR\":\n",
    "        neuron = McCullochPittsNeuron([2, 2], 1)\n",
    "    elif gate_type == \"NOR\":\n",
    "        neuron = McCullochPittsNeuron([-1, -1], -0.5)\n",
    "    else:\n",
    "        raise ValueError(\"Unsupported Gate Type\")\n",
    "\n",
    "    print(f\"{gate_type} Gate\")\n",
    "    for input_data in inputs:\n",
    "        output = neuron.activate(input_data)\n",
    "        print(f\"Input: {input_data.values}, Output: {output}\")"
   ],
   "metadata": {
    "collapsed": false,
    "ExecuteTime": {
     "end_time": "2024-01-18T19:00:29.432096Z",
     "start_time": "2024-01-18T19:00:29.422937Z"
    }
   },
   "id": "30fb0f29b5ac85b"
  },
  {
   "cell_type": "code",
   "execution_count": 43,
   "outputs": [
    {
     "name": "stdout",
     "output_type": "stream",
     "text": [
      "AND Gate\n",
      "Input: [0, 0], Output: 0\n",
      "Input: [0, 1], Output: 0\n",
      "Input: [1, 0], Output: 0\n",
      "Input: [1, 1], Output: 1\n",
      "OR Gate\n",
      "Input: [0, 0], Output: 0\n",
      "Input: [0, 1], Output: 1\n",
      "Input: [1, 0], Output: 1\n",
      "Input: [1, 1], Output: 1\n",
      "NOR Gate\n",
      "Input: [0, 0], Output: 1\n",
      "Input: [0, 1], Output: 0\n",
      "Input: [1, 0], Output: 0\n",
      "Input: [1, 1], Output: 0\n"
     ]
    }
   ],
   "source": [
    "logic_gate_demo(\"AND\")\n",
    "logic_gate_demo(\"OR\")\n",
    "logic_gate_demo(\"NOR\")"
   ],
   "metadata": {
    "collapsed": false,
    "ExecuteTime": {
     "end_time": "2024-01-18T19:00:32.273785Z",
     "start_time": "2024-01-18T19:00:32.252094Z"
    }
   },
   "id": "a91e4a8531f62584"
  },
  {
   "cell_type": "code",
   "execution_count": null,
   "outputs": [],
   "source": [],
   "metadata": {
    "collapsed": false
   },
   "id": "92d07d57485fed37"
  }
 ],
 "metadata": {
  "kernelspec": {
   "display_name": "Python 3",
   "language": "python",
   "name": "python3"
  },
  "language_info": {
   "codemirror_mode": {
    "name": "ipython",
    "version": 2
   },
   "file_extension": ".py",
   "mimetype": "text/x-python",
   "name": "python",
   "nbconvert_exporter": "python",
   "pygments_lexer": "ipython2",
   "version": "2.7.6"
  }
 },
 "nbformat": 4,
 "nbformat_minor": 5
}
