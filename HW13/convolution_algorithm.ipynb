{
 "cells": [
  {
   "cell_type": "code",
   "execution_count": null,
   "id": "initial_id",
   "metadata": {
    "collapsed": true
   },
   "outputs": [],
   "source": [
    "import numpy as np\n",
    "\n",
    "class Convolution2D:\n",
    "    def __init__(self, input_image=None, filter_kernel=None):\n",
    "        self.input_image = input_image\n",
    "        self.filter_kernel = filter_kernel\n",
    "        self.output_image = None\n",
    "\n",
    "    def set_input_image(self, input_image):\n",
    "        self.input_image = input_image\n",
    "\n",
    "    def set_filter_kernel(self, filter_kernel):\n",
    "        self.filter_kernel = filter_kernel\n",
    "\n",
    "    def perform_convolution(self):\n",
    "        if self.input_image is None or self.filter_kernel is None:\n",
    "            raise ValueError(\"Input image and filter kernel must be set before performing convolution.\")\n",
    "\n",
    "        input_shape = self.input_image.shape\n",
    "        kernel_shape = self.filter_kernel.shape\n",
    "\n",
    "        output_shape = (input_shape[0] - kernel_shape[0] + 1,\n",
    "                        input_shape[1] - kernel_shape[1] + 1)\n",
    "        self.output_image = np.zeros(output_shape)\n",
    "\n",
    "        for i in range(output_shape[0]):\n",
    "            for j in range(output_shape[1]):\n",
    "                self.output_image[i, j] = np.sum(self.input_image[i:i+kernel_shape[0], j:j+kernel_shape[1]] * self.filter_kernel)\n",
    "\n",
    "        return self.output_image\n",
    "\n",
    "if __name__ == \"__main__\":\n",
    "    conv2d = Convolution2D()\n",
    "\n",
    "    original_image = np.ones((6, 6))\n",
    "    filter_kernel = np.ones((3, 3))\n",
    "    conv2d.set_input_image(original_image)\n",
    "    conv2d.set_filter_kernel(filter_kernel)\n",
    "\n",
    "    output_image = conv2d.perform_convolution()\n",
    "    print(output_image)\n"
   ]
  }
 ],
 "metadata": {
  "kernelspec": {
   "display_name": "Python 3",
   "language": "python",
   "name": "python3"
  },
  "language_info": {
   "codemirror_mode": {
    "name": "ipython",
    "version": 2
   },
   "file_extension": ".py",
   "mimetype": "text/x-python",
   "name": "python",
   "nbconvert_exporter": "python",
   "pygments_lexer": "ipython2",
   "version": "2.7.6"
  }
 },
 "nbformat": 4,
 "nbformat_minor": 5
}
