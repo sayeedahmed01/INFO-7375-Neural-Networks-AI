{
 "cells": [
  {
   "cell_type": "code",
   "execution_count": 11,
   "id": "initial_id",
   "metadata": {
    "collapsed": true,
    "ExecuteTime": {
     "end_time": "2024-02-01T22:06:08.676555Z",
     "start_time": "2024-02-01T22:06:08.121363Z"
    }
   },
   "outputs": [],
   "source": [
    "import numpy as np"
   ]
  },
  {
   "cell_type": "code",
   "execution_count": 12,
   "outputs": [],
   "source": [
    "class Activation:\n",
    "\n",
    "    @staticmethod\n",
    "    def sigmoid(x):\n",
    "        return 1 / (1 + np.exp(-x))\n",
    "\n",
    "    @staticmethod\n",
    "    def sigmoid_derivative(x):\n",
    "        return Activation.sigmoid(x) * (1 - Activation.sigmoid(x))"
   ],
   "metadata": {
    "collapsed": false,
    "ExecuteTime": {
     "end_time": "2024-02-01T22:06:08.784268Z",
     "start_time": "2024-02-01T22:06:08.186191Z"
    }
   },
   "id": "34869e1e7c92365c"
  },
  {
   "cell_type": "code",
   "execution_count": 13,
   "outputs": [],
   "source": [
    "# Neuron Layer\n",
    "class Layer:\n",
    "    def __init__(self, size, activation_function):\n",
    "        self.size = size\n",
    "        self.activation_function = activation_function\n",
    "        self.output = None\n",
    "        self.input = None\n",
    "        self.weights = None\n",
    "        self.bias = None"
   ],
   "metadata": {
    "collapsed": false,
    "ExecuteTime": {
     "end_time": "2024-02-01T22:06:08.785823Z",
     "start_time": "2024-02-01T22:06:08.198650Z"
    }
   },
   "id": "b24a73a1dd8ea29f"
  },
  {
   "cell_type": "code",
   "execution_count": 14,
   "outputs": [],
   "source": [
    "class Model:\n",
    "\n",
    "    def __init__(self):\n",
    "        self.layers = []\n",
    "    def add(self, layer):\n",
    "        self.layers.append(layer)\n",
    "\n",
    "    def setup(self):\n",
    "        for i in range(1, len(self.layers)):\n",
    "            self.layers[i].weights = np.random.randn(self.layers[i-1].size, self.layers[i].size)\n",
    "            self.layers[i].bias = np.random.randn(self.layers[i].size)"
   ],
   "metadata": {
    "collapsed": false,
    "ExecuteTime": {
     "end_time": "2024-02-01T22:06:08.787171Z",
     "start_time": "2024-02-01T22:06:08.211281Z"
    }
   },
   "id": "122c0a0c3f682afc"
  },
  {
   "cell_type": "code",
   "execution_count": 15,
   "outputs": [],
   "source": [
    "# Loss Function\n",
    "\n",
    "class LossFunction:\n",
    "    @staticmethod\n",
    "    def mean_squared_error(y_true, y_pred):\n",
    "        return np.mean((y_true - y_pred) ** 2)\n",
    "\n",
    "    @staticmethod\n",
    "    def mean_squared_error_derivative(y_true, y_pred):\n",
    "        return 2 * (y_pred - y_true) / y_true.size"
   ],
   "metadata": {
    "collapsed": false,
    "ExecuteTime": {
     "end_time": "2024-02-01T22:06:08.787942Z",
     "start_time": "2024-02-01T22:06:08.222608Z"
    }
   },
   "id": "34db61961013a27e"
  },
  {
   "cell_type": "code",
   "execution_count": 16,
   "outputs": [],
   "source": [
    "# Forward Propagation\n",
    "\n",
    "class ForwardProp:\n",
    "    @staticmethod\n",
    "    def compute(model, input_data):\n",
    "        for i in range(1, len(model.layers)):\n",
    "            if i == 1:\n",
    "                model.layers[i].input = input_data\n",
    "            else:\n",
    "                model.layers[i].input = model.layers[i-1].output\n",
    "            z = np.dot(model.layers[i].input, model.layers[i].weights) + model.layers[i].bias\n",
    "            model.layers[i].output = Activation.sigmoid(z)\n",
    "        return model.layers[-1].output"
   ],
   "metadata": {
    "collapsed": false,
    "ExecuteTime": {
     "end_time": "2024-02-01T22:06:08.833305Z",
     "start_time": "2024-02-01T22:06:08.231052Z"
    }
   },
   "id": "9ef159ae9bd685be"
  },
  {
   "cell_type": "code",
   "execution_count": 17,
   "outputs": [],
   "source": [
    "# Backward Propagation\n",
    "\n",
    "class BackProp:\n",
    "    @staticmethod\n",
    "    def compute(model, y_true, y_pred):\n",
    "        changes = {}\n",
    "        for i in reversed(range(1, len(model.layers))):\n",
    "            if i == len(model.layers) - 1:\n",
    "                error = LossFunction.mean_squared_error_derivative(y_true, y_pred)\n",
    "                delta = error * Activation.sigmoid_derivative(y_pred)\n",
    "            else:\n",
    "                error = np.dot(delta, model.layers[i+1].weights.T)\n",
    "                delta = error * Activation.sigmoid_derivative(model.layers[i].output)\n",
    "\n",
    "            weight_change = np.dot(model.layers[i].input.T, delta)\n",
    "            bias_change = np.sum(delta, axis=0, keepdims=True)\n",
    "            changes[i] = (weight_change, bias_change)\n",
    "        return changes"
   ],
   "metadata": {
    "collapsed": false,
    "ExecuteTime": {
     "end_time": "2024-02-01T22:06:08.992628Z",
     "start_time": "2024-02-01T22:06:08.240003Z"
    }
   },
   "id": "a368baf80732a06e"
  },
  {
   "cell_type": "code",
   "execution_count": 18,
   "outputs": [],
   "source": [
    "# Gradient Descent Optimization\n",
    "\n",
    "class GradDescent:\n",
    "    @staticmethod\n",
    "    def update(model, changes, lr=0.1):\n",
    "        for i in range(1, len(model.layers)):\n",
    "            model.layers[i].weights -= lr * changes[i][0]\n",
    "            model.layers[i].bias -= lr * changes[i][1].reshape(model.layers[i].bias.shape)"
   ],
   "metadata": {
    "collapsed": false,
    "ExecuteTime": {
     "end_time": "2024-02-01T22:06:08.994535Z",
     "start_time": "2024-02-01T22:06:08.243873Z"
    }
   },
   "id": "a988e3f75d90959d"
  },
  {
   "cell_type": "code",
   "execution_count": 19,
   "outputs": [],
   "source": [
    "# Training Process\n",
    "\n",
    "class Training:\n",
    "    @staticmethod\n",
    "    def train(model, x_train, y_train, epochs, lr):\n",
    "        for epoch in range(epochs):\n",
    "            # Forward propagation\n",
    "            y_pred = ForwardProp.compute(model, x_train)\n",
    "            # Backward propagation\n",
    "            changes = BackProp.compute(model, y_train, y_pred)\n",
    "            # Update weights\n",
    "            GradDescent.update(model, changes, lr)\n",
    "            # Print loss\n",
    "            if epoch % 100 == 0:\n",
    "                loss = LossFunction.mean_squared_error(y_train, y_pred)\n",
    "                print(f'Epoch {epoch}, Loss: {loss}')"
   ],
   "metadata": {
    "collapsed": false,
    "ExecuteTime": {
     "end_time": "2024-02-01T22:06:09.785132Z",
     "start_time": "2024-02-01T22:06:08.249174Z"
    }
   },
   "id": "d9cf45f7a04f02c"
  },
  {
   "cell_type": "code",
   "execution_count": 20,
   "outputs": [
    {
     "name": "stdout",
     "output_type": "stream",
     "text": [
      "Epoch 0, Loss: 0.4120178111497476\n",
      "Epoch 100, Loss: 0.2514285790857201\n",
      "Epoch 200, Loss: 0.25005947347564106\n",
      "Epoch 300, Loss: 0.24976449057944783\n",
      "Epoch 400, Loss: 0.2494857491859962\n",
      "Epoch 500, Loss: 0.24921822832709997\n",
      "Epoch 600, Loss: 0.24896071413069404\n",
      "Epoch 700, Loss: 0.2487122058368037\n",
      "Epoch 800, Loss: 0.24847183336441686\n",
      "Epoch 900, Loss: 0.2482388381135382\n",
      "Predictions:\n",
      "[[0.47352703]\n",
      " [0.50534733]\n",
      " [0.50244692]\n",
      " [0.5249591 ]]\n"
     ]
    }
   ],
   "source": [
    "x_train = np.array([[0,0], [0,1], [1,0], [1,1]])\n",
    "y_train = np.array([[0], [1], [1], [0]])\n",
    "\n",
    "\n",
    "nn_model = Model()\n",
    "nn_model.add(Layer(size=2, activation_function='sigmoid'))  # Input layer\n",
    "nn_model.add(Layer(size=3, activation_function='sigmoid'))  # Hidden layer\n",
    "nn_model.add(Layer(size=1, activation_function='sigmoid'))  # Output layer\n",
    "\n",
    "nn_model.setup()\n",
    "\n",
    "Training.train(nn_model, x_train, y_train, epochs=1000, lr=0.1)\n",
    "\n",
    "\n",
    "y_pred = ForwardProp.compute(nn_model, x_train)\n",
    "\n",
    "print(f'Predictions:\\n{y_pred}')"
   ],
   "metadata": {
    "collapsed": false,
    "ExecuteTime": {
     "end_time": "2024-02-01T22:06:09.920831Z",
     "start_time": "2024-02-01T22:06:08.282868Z"
    }
   },
   "id": "142000e816b4db24"
  },
  {
   "cell_type": "code",
   "execution_count": 20,
   "outputs": [],
   "source": [],
   "metadata": {
    "collapsed": false,
    "ExecuteTime": {
     "end_time": "2024-02-01T22:06:09.922349Z",
     "start_time": "2024-02-01T22:06:08.377276Z"
    }
   },
   "id": "ae5ec8702b3135ca"
  }
 ],
 "metadata": {
  "kernelspec": {
   "display_name": "Python 3",
   "language": "python",
   "name": "python3"
  },
  "language_info": {
   "codemirror_mode": {
    "name": "ipython",
    "version": 2
   },
   "file_extension": ".py",
   "mimetype": "text/x-python",
   "name": "python",
   "nbconvert_exporter": "python",
   "pygments_lexer": "ipython2",
   "version": "2.7.6"
  }
 },
 "nbformat": 4,
 "nbformat_minor": 5
}
